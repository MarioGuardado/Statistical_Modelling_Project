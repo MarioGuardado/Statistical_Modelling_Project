{
 "cells": [
  {
   "cell_type": "code",
   "execution_count": 147,
   "metadata": {
    "tags": []
   },
   "outputs": [],
   "source": [
    "#imports\n",
    "import numpy as np\n",
    "import pandas as pd\n",
    "import json\n",
    "import seaborn as sns\n",
    "import matplotlib.pyplot as plt\n",
    "import statsmodels.api as stats"
   ]
  },
  {
   "cell_type": "markdown",
   "metadata": {},
   "source": [
    "Build a regression model."
   ]
  },
  {
   "cell_type": "code",
   "execution_count": 16,
   "metadata": {
    "tags": []
   },
   "outputs": [
    {
     "name": "stdout",
     "output_type": "stream",
     "text": [
      "<class 'pandas.core.frame.DataFrame'>\n",
      "Index: 541 entries, 0 to 540\n",
      "Data columns (total 11 columns):\n",
      " #   Column            Non-Null Count  Dtype  \n",
      "---  ------            --------------  -----  \n",
      " 0   nearest_station   541 non-null    int64  \n",
      " 1   empty_bike_slots  541 non-null    int64  \n",
      " 2   available_bikes   541 non-null    int64  \n",
      " 3   business_name     541 non-null    object \n",
      " 4   rating            541 non-null    float64\n",
      " 5   review_count      541 non-null    int64  \n",
      " 6   dist_to_station   541 non-null    float64\n",
      " 7   price             267 non-null    object \n",
      " 8   numeric_price     267 non-null    float64\n",
      " 9   business_type     541 non-null    object \n",
      " 10  total_bikes       541 non-null    int64  \n",
      "dtypes: float64(3), int64(5), object(3)\n",
      "memory usage: 50.7+ KB\n",
      "None\n",
      "       nearest_station  empty_bike_slots  available_bikes      rating  \\\n",
      "count       541.000000        541.000000       541.000000  541.000000   \n",
      "mean         17.770795         15.609982         1.181146    3.927911   \n",
      "std           5.450039          2.774456         0.702176    0.845674   \n",
      "min           1.000000          9.000000         0.000000    1.000000   \n",
      "25%          17.000000         15.000000         1.000000    3.500000   \n",
      "50%          17.000000         15.000000         1.000000    4.000000   \n",
      "75%          23.000000         16.000000         1.000000    4.500000   \n",
      "max          23.000000         23.000000         3.000000    5.000000   \n",
      "\n",
      "       review_count  dist_to_station  numeric_price  total_bikes  \n",
      "count    541.000000       541.000000     267.000000   541.000000  \n",
      "mean     110.512015       349.579758       1.726592    16.791128  \n",
      "std      198.372541       237.917927       0.558735     2.573151  \n",
      "min        1.000000        18.736233       1.000000    10.000000  \n",
      "25%        5.000000       182.135254       1.000000    16.000000  \n",
      "50%       26.000000       287.654527       2.000000    16.000000  \n",
      "75%      131.000000       448.287939       2.000000    17.000000  \n",
      "max     1418.000000      1367.350905       4.000000    23.000000  \n"
     ]
    }
   ],
   "source": [
    "#import the businesses/bike stations dataframe to perform the modelling on\n",
    "businesses = pd.read_json('business.json')\n",
    "\n",
    "#add a column containing the total number of bikes per station, total_bikes = empty_bike_slots+available_bikes\n",
    "businesses['total_bikes'] = businesses['empty_bike_slots']+businesses['available_bikes']\n",
    "\n",
    "#review the characteristics of the dataframe\n",
    "print(businesses.info())\n",
    "print(businesses.describe())"
   ]
  },
  {
   "cell_type": "code",
   "execution_count": 17,
   "metadata": {
    "tags": []
   },
   "outputs": [
    {
     "data": {
      "text/html": [
       "<div>\n",
       "<style scoped>\n",
       "    .dataframe tbody tr th:only-of-type {\n",
       "        vertical-align: middle;\n",
       "    }\n",
       "\n",
       "    .dataframe tbody tr th {\n",
       "        vertical-align: top;\n",
       "    }\n",
       "\n",
       "    .dataframe thead th {\n",
       "        text-align: right;\n",
       "    }\n",
       "</style>\n",
       "<table border=\"1\" class=\"dataframe\">\n",
       "  <thead>\n",
       "    <tr style=\"text-align: right;\">\n",
       "      <th></th>\n",
       "      <th>nearest_station</th>\n",
       "      <th>empty_bike_slots</th>\n",
       "      <th>available_bikes</th>\n",
       "      <th>business_name</th>\n",
       "      <th>rating</th>\n",
       "      <th>review_count</th>\n",
       "      <th>dist_to_station</th>\n",
       "      <th>numeric_price</th>\n",
       "      <th>business_type</th>\n",
       "      <th>total_bikes</th>\n",
       "    </tr>\n",
       "  </thead>\n",
       "  <tbody>\n",
       "    <tr>\n",
       "      <th>0</th>\n",
       "      <td>1</td>\n",
       "      <td>11</td>\n",
       "      <td>1</td>\n",
       "      <td>Popeyes Louisiana Kitchen</td>\n",
       "      <td>1.5</td>\n",
       "      <td>54</td>\n",
       "      <td>237.035506</td>\n",
       "      <td>1.000000</td>\n",
       "      <td>Fried Chicken Joint</td>\n",
       "      <td>12</td>\n",
       "    </tr>\n",
       "    <tr>\n",
       "      <th>1</th>\n",
       "      <td>1</td>\n",
       "      <td>11</td>\n",
       "      <td>1</td>\n",
       "      <td>Captain D's</td>\n",
       "      <td>4.0</td>\n",
       "      <td>8</td>\n",
       "      <td>249.010884</td>\n",
       "      <td>1.000000</td>\n",
       "      <td>Restaurant</td>\n",
       "      <td>12</td>\n",
       "    </tr>\n",
       "    <tr>\n",
       "      <th>2</th>\n",
       "      <td>1</td>\n",
       "      <td>11</td>\n",
       "      <td>1</td>\n",
       "      <td>Red Harbor Seafood N Chicken</td>\n",
       "      <td>4.0</td>\n",
       "      <td>13</td>\n",
       "      <td>336.555225</td>\n",
       "      <td>1.726592</td>\n",
       "      <td>Restaurant</td>\n",
       "      <td>12</td>\n",
       "    </tr>\n",
       "    <tr>\n",
       "      <th>3</th>\n",
       "      <td>1</td>\n",
       "      <td>11</td>\n",
       "      <td>1</td>\n",
       "      <td>Sugar's Crab Shack</td>\n",
       "      <td>4.5</td>\n",
       "      <td>161</td>\n",
       "      <td>607.440572</td>\n",
       "      <td>2.000000</td>\n",
       "      <td>Restaurant</td>\n",
       "      <td>12</td>\n",
       "    </tr>\n",
       "    <tr>\n",
       "      <th>4</th>\n",
       "      <td>1</td>\n",
       "      <td>11</td>\n",
       "      <td>1</td>\n",
       "      <td>Sugars crab shack</td>\n",
       "      <td>5.0</td>\n",
       "      <td>3</td>\n",
       "      <td>607.440572</td>\n",
       "      <td>1.726592</td>\n",
       "      <td>Restaurant</td>\n",
       "      <td>12</td>\n",
       "    </tr>\n",
       "  </tbody>\n",
       "</table>\n",
       "</div>"
      ],
      "text/plain": [
       "   nearest_station  empty_bike_slots  available_bikes  \\\n",
       "0                1                11                1   \n",
       "1                1                11                1   \n",
       "2                1                11                1   \n",
       "3                1                11                1   \n",
       "4                1                11                1   \n",
       "\n",
       "                  business_name  rating  review_count  dist_to_station  \\\n",
       "0     Popeyes Louisiana Kitchen     1.5            54       237.035506   \n",
       "1                   Captain D's     4.0             8       249.010884   \n",
       "2  Red Harbor Seafood N Chicken     4.0            13       336.555225   \n",
       "3            Sugar's Crab Shack     4.5           161       607.440572   \n",
       "4             Sugars crab shack     5.0             3       607.440572   \n",
       "\n",
       "   numeric_price        business_type  total_bikes  \n",
       "0       1.000000  Fried Chicken Joint           12  \n",
       "1       1.000000           Restaurant           12  \n",
       "2       1.726592           Restaurant           12  \n",
       "3       2.000000           Restaurant           12  \n",
       "4       1.726592           Restaurant           12  "
      ]
     },
     "execution_count": 17,
     "metadata": {},
     "output_type": "execute_result"
    }
   ],
   "source": [
    "\n",
    "#numeric_price column contain many null values that need to be handled. Since there are no outliers in this column, null values can be replaced with the column average\n",
    "businesses.fillna(businesses['numeric_price'].mean(), inplace=True)\n",
    "\n",
    "#column 'price' is symbolic and also contain many null values, however, replacing them with the \"mean\" or the corresponding number of \"$\" symbols would introduce significant systematic bias, thus is better to simply drop the column\n",
    "businesses.drop(columns=['price'], inplace=True)\n",
    "\n",
    "businesses.head()"
   ]
  },
  {
   "cell_type": "code",
   "execution_count": 135,
   "metadata": {
    "tags": []
   },
   "outputs": [
    {
     "name": "stdout",
     "output_type": "stream",
     "text": [
      "                            OLS Regression Results                            \n",
      "==============================================================================\n",
      "Dep. Variable:            total_bikes   R-squared:                       0.012\n",
      "Model:                            OLS   Adj. R-squared:                  0.005\n",
      "Method:                 Least Squares   F-statistic:                     1.634\n",
      "Date:                Mon, 23 Oct 2023   Prob (F-statistic):              0.164\n",
      "Time:                        12:23:00   Log-Likelihood:                -1275.2\n",
      "No. Observations:                 541   AIC:                             2560.\n",
      "Df Residuals:                     536   BIC:                             2582.\n",
      "Df Model:                           4                                         \n",
      "Covariance Type:            nonrobust                                         \n",
      "===================================================================================\n",
      "                      coef    std err          t      P>|t|      [0.025      0.975]\n",
      "-----------------------------------------------------------------------------------\n",
      "const              16.7473      0.699     23.963      0.000      15.374      18.120\n",
      "rating              0.0417      0.132      0.316      0.752      -0.217       0.301\n",
      "review_count        0.0013      0.001      2.308      0.021       0.000       0.002\n",
      "dist_to_station    -0.0004      0.000     -0.914      0.361      -0.001       0.000\n",
      "numeric_price      -0.0672      0.288     -0.233      0.816      -0.634       0.499\n",
      "==============================================================================\n",
      "Omnibus:                       34.266   Durbin-Watson:                   0.141\n",
      "Prob(Omnibus):                  0.000   Jarque-Bera (JB):               75.310\n",
      "Skew:                           0.350   Prob(JB):                     4.43e-17\n",
      "Kurtosis:                       4.688   Cond. No.                     2.87e+03\n",
      "==============================================================================\n",
      "\n",
      "Notes:\n",
      "[1] Standard Errors assume that the covariance matrix of the errors is correctly specified.\n",
      "[2] The condition number is large, 2.87e+03. This might indicate that there are\n",
      "strong multicollinearity or other numerical problems.\n"
     ]
    }
   ],
   "source": [
    "#build the regression model where total_bikes is the dependent variable and the business characteristics are the independent variables\n",
    "y=businesses['total_bikes']\n",
    "x=businesses[['rating','review_count','dist_to_station','numeric_price']]\n",
    "\n",
    "#add intercept value to independent variables and fit the regression model\n",
    "x = stats.add_constant(x)\n",
    "regmodel=stats.OLS(y,x).fit()\n",
    "\n",
    "#display the regression results\n",
    "print(regmodel.summary())"
   ]
  },
  {
   "cell_type": "code",
   "execution_count": 136,
   "metadata": {
    "tags": []
   },
   "outputs": [
    {
     "name": "stdout",
     "output_type": "stream",
     "text": [
      "dropped column numeric_price, with p_value = 0.816\n",
      "dropped column rating, with p_value = 0.762\n",
      "dropped column dist_to_station, with p_value = 0.37\n"
     ]
    }
   ],
   "source": [
    "#since most independent variables have a p_value larger than the significant cutoff, they should be removed from the model to try to improve it\n",
    "\n",
    "#recursively remove the independent variable with the highest p_value and repeat the regression until all the remaining idependent variables have p_values under 0.05\n",
    "while max(regmodel.pvalues)>0.05:\n",
    "    maxP_value = round(max(regmodel.pvalues),3)\n",
    "    drop_col = x.columns[regmodel.pvalues.tolist().index(max(regmodel.pvalues))]\n",
    "    print(f'dropped column {drop_col}, with p_value = {round(regmodel.pvalues[drop_col],3)}')\n",
    "    x.drop(columns=drop_col, inplace=True)\n",
    "    regmodel=stats.OLS(y,x).fit()\n",
    "#print(regmodel.summary())"
   ]
  },
  {
   "cell_type": "markdown",
   "metadata": {},
   "source": [
    "Provide model output and an interpretation of the results. "
   ]
  },
  {
   "cell_type": "code",
   "execution_count": 134,
   "metadata": {
    "tags": []
   },
   "outputs": [
    {
     "name": "stdout",
     "output_type": "stream",
     "text": [
      "                            OLS Regression Results                            \n",
      "==============================================================================\n",
      "Dep. Variable:            total_bikes   R-squared:                       0.010\n",
      "Model:                            OLS   Adj. R-squared:                  0.008\n",
      "Method:                 Least Squares   F-statistic:                     5.606\n",
      "Date:                Mon, 23 Oct 2023   Prob (F-statistic):             0.0183\n",
      "Time:                        12:22:40   Log-Likelihood:                -1275.7\n",
      "No. Observations:                 541   AIC:                             2555.\n",
      "Df Residuals:                     539   BIC:                             2564.\n",
      "Df Model:                           1                                         \n",
      "Covariance Type:            nonrobust                                         \n",
      "================================================================================\n",
      "                   coef    std err          t      P>|t|      [0.025      0.975]\n",
      "--------------------------------------------------------------------------------\n",
      "const           16.6457      0.126    131.975      0.000      16.398      16.893\n",
      "review_count     0.0013      0.001      2.368      0.018       0.000       0.002\n",
      "==============================================================================\n",
      "Omnibus:                       32.437   Durbin-Watson:                   0.142\n",
      "Prob(Omnibus):                  0.000   Jarque-Bera (JB):               74.156\n",
      "Skew:                           0.313   Prob(JB):                     7.89e-17\n",
      "Kurtosis:                       4.702   Cond. No.                         260.\n",
      "==============================================================================\n",
      "\n",
      "Notes:\n",
      "[1] Standard Errors assume that the covariance matrix of the errors is correctly specified.\n"
     ]
    }
   ],
   "source": [
    "#display the resulting regression output\n",
    "print(regmodel.summary())"
   ]
  },
  {
   "cell_type": "code",
   "execution_count": null,
   "metadata": {
    "tags": []
   },
   "outputs": [],
   "source": [
    "\"\"\"\n",
    "In the end, only the number of Yelp reviews of a business, has any significant correlation to the total number of bikes in the nearest bike station.\n",
    "However, with R-squared = 0.010 and Adjusted R-squared = 0.008, it seems the predictive power of this model is negligible.\n",
    "\n",
    "The following is a possible interpretation of the results:\n",
    "The number of Yelp reviews of a business is likely correlated to the popularity of the business, meaning the number of regular patrons served.\n",
    "Then, there must be an elevated transit of patrons near popular businesses, thus more bikes are required to meet the demands of patrons\\\n",
    "when compared to areas with less popular businesses.\n",
    "\"\"\""
   ]
  },
  {
   "cell_type": "markdown",
   "metadata": {},
   "source": [
    "# Stretch"
   ]
  },
  {
   "cell_type": "markdown",
   "metadata": {},
   "source": [
    "How can you turn the regression model into a classification model?"
   ]
  },
  {
   "cell_type": "code",
   "execution_count": 165,
   "metadata": {
    "tags": []
   },
   "outputs": [
    {
     "name": "stdout",
     "output_type": "stream",
     "text": [
      "Optimization terminated successfully.\n",
      "         Current function value: 0.603893\n",
      "         Iterations 5\n",
      "                           Logit Regression Results                           \n",
      "==============================================================================\n",
      "Dep. Variable:                      y   No. Observations:                  541\n",
      "Model:                          Logit   Df Residuals:                      539\n",
      "Method:                           MLE   Df Model:                            1\n",
      "Date:                Mon, 23 Oct 2023   Pseudo R-squ.:                 0.01811\n",
      "Time:                        13:35:26   Log-Likelihood:                -326.71\n",
      "converged:                       True   LL-Null:                       -332.73\n",
      "Covariance Type:            nonrobust   LLR p-value:                 0.0005166\n",
      "===============================================================================\n",
      "                  coef    std err          z      P>|z|      [0.025      0.975]\n",
      "-------------------------------------------------------------------------------\n",
      "const          -2.9808      0.642     -4.640      0.000      -4.240      -1.722\n",
      "total_bikes     0.1273      0.037      3.422      0.001       0.054       0.200\n",
      "===============================================================================\n"
     ]
    }
   ],
   "source": [
    "\"\"\"\n",
    "A possible approach to turn the regression model into a classification model would be to use total_bikes as independent variable\\\n",
    "to determine if a business is popular or not. With Popular being defined as a business with more than 100 Yelp reviews.\n",
    "\"\"\"\n",
    "is_popular = []\n",
    "for i in range(len(businesses)):\n",
    "    if businesses['review_count'][i] > 100:\n",
    "        is_popular.append(1)\n",
    "    else:\n",
    "        is_popular.append(0)\n",
    "is_popular = np.array(is_popular, dtype=float)\n",
    "\n",
    "indep_var = businesses['total_bikes']\n",
    "indep_var = stats.add_constant(indep_var)\n",
    "classification_model=stats.Logit(is_popular, indep_var).fit()\n",
    "print(classification_model.summary())"
   ]
  },
  {
   "cell_type": "code",
   "execution_count": null,
   "metadata": {},
   "outputs": [],
   "source": [
    "#Pseudo R-squred is still very low (0.01811), so the predictive power of the classification model is just as bad as that of the regression model."
   ]
  }
 ],
 "metadata": {
  "kernelspec": {
   "display_name": "Python 3 (ipykernel)",
   "language": "python",
   "name": "python3"
  },
  "language_info": {
   "codemirror_mode": {
    "name": "ipython",
    "version": 3
   },
   "file_extension": ".py",
   "mimetype": "text/x-python",
   "name": "python",
   "nbconvert_exporter": "python",
   "pygments_lexer": "ipython3",
   "version": "3.11.5"
  }
 },
 "nbformat": 4,
 "nbformat_minor": 4
}
